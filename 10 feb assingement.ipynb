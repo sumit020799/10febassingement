{
 "cells": [
  {
   "attachments": {},
   "cell_type": "markdown",
   "metadata": {},
   "source": [
    "10 feb assingement \n",
    "\n",
    "1. Which function is used to open a file? What are the different modes of opening a file? Explain each mode \n",
    "of file opening."
   ]
  },
  {
   "cell_type": "code",
   "execution_count": null,
   "metadata": {},
   "outputs": [],
   "source": [
    "''' open() function is used to open a file. \n",
    "\n",
    "    these are the modes of opening a file:-\n",
    "\n",
    "    1. 'r' =  The 'r' mode indicates that the file will only be read from, and nothing else can write into it.\n",
    "    2. 'w' =  The 'w' mode is used to write data inside the file. If the data already exists in the file, its overwrite it. \n",
    "              After that the data is put inside the file.\n",
    "    3. 'a' =  The 'a' mode is stands for Append mode. If there is already data inside the file and we want to \n",
    "              add more data in the same file, then we use 'a' mode.\n",
    "    4.  'wb' = In this mode, the data inside the file is written in binary formate.\n",
    "    5.  'rb' = In this mode, the data written in binary formate inside the file is read.         \n",
    "  \n",
    "'''"
   ]
  },
  {
   "attachments": {},
   "cell_type": "markdown",
   "metadata": {},
   "source": [
    "2. Why close() function is used? Why is it important to close a file?"
   ]
  },
  {
   "cell_type": "code",
   "execution_count": null,
   "metadata": {},
   "outputs": [],
   "source": [
    "''' Because files are limited resources managed by the operating system, making sure files are closed after\n",
    "    use will protect against hard-to-debug issues like running out of file handles or experiencing corrupted data. \n",
    "    The best defense is always to open files with a context manager.\n",
    "'''"
   ]
  },
  {
   "attachments": {},
   "cell_type": "markdown",
   "metadata": {},
   "source": [
    "3. Write a python program to create a text file. Write ‘I want to become a Data Scientist’ in that file. Then \n",
    "close the file. Open this file and read the content of the file.  "
   ]
  },
  {
   "cell_type": "code",
   "execution_count": 1,
   "metadata": {},
   "outputs": [],
   "source": [
    "pwskill = open(\"pwskills.txt\" , 'w')"
   ]
  },
  {
   "cell_type": "code",
   "execution_count": 2,
   "metadata": {},
   "outputs": [
    {
     "data": {
      "text/plain": [
       "33"
      ]
     },
     "execution_count": 2,
     "metadata": {},
     "output_type": "execute_result"
    }
   ],
   "source": [
    "pwskill.write(\"I want to become a Data Scientist\")"
   ]
  },
  {
   "cell_type": "code",
   "execution_count": 3,
   "metadata": {},
   "outputs": [],
   "source": [
    "pwskill.close()"
   ]
  },
  {
   "cell_type": "code",
   "execution_count": 4,
   "metadata": {},
   "outputs": [],
   "source": [
    "pwskill = open(\"pwskills.txt\", 'r')"
   ]
  },
  {
   "cell_type": "code",
   "execution_count": 6,
   "metadata": {},
   "outputs": [
    {
     "data": {
      "text/plain": [
       "'I want to become a Data Scientist'"
      ]
     },
     "execution_count": 6,
     "metadata": {},
     "output_type": "execute_result"
    }
   ],
   "source": [
    "pwskill.read()"
   ]
  },
  {
   "attachments": {},
   "cell_type": "markdown",
   "metadata": {},
   "source": [
    "4. Explain the following with python code: read(), readline() and readlines()"
   ]
  },
  {
   "cell_type": "code",
   "execution_count": 9,
   "metadata": {},
   "outputs": [
    {
     "name": "stdout",
     "output_type": "stream",
     "text": [
      "I want to become a Data Scientist\n"
     ]
    }
   ],
   "source": [
    "#read() is a method in Python that reads the entire contents of a file and returns it as a string. Here's an example:\n",
    "\n",
    "\n",
    "with open('pwskills.txt', 'r') as f:\n",
    "    contents = f.read()\n",
    "    print(contents)"
   ]
  },
  {
   "cell_type": "code",
   "execution_count": 10,
   "metadata": {},
   "outputs": [
    {
     "name": "stdout",
     "output_type": "stream",
     "text": [
      "I want to become a Data Scientist. One day i'll become a data Scientist.\n",
      "\n"
     ]
    }
   ],
   "source": [
    "#readline() is a method in Python that reads a single line from a file and returns it as a string. Here's an example:\n",
    "\n",
    "with open('pwskills.txt', 'r') as f:\n",
    "    line = f.readline()\n",
    "    print(line)"
   ]
  },
  {
   "cell_type": "code",
   "execution_count": 11,
   "metadata": {},
   "outputs": [
    {
     "name": "stdout",
     "output_type": "stream",
     "text": [
      "[\"I want to become a Data Scientist. One day i'll become a data Scientist.\\n\"]\n"
     ]
    }
   ],
   "source": [
    "#readlines() is a method in Python that reads all the lines from a file and returns them as a list of strings. Here's an example:\n",
    "\n",
    "with open('pwskills.txt', 'r') as f:\n",
    "    lines = f.readlines()\n",
    "    print(lines)\n"
   ]
  },
  {
   "attachments": {},
   "cell_type": "markdown",
   "metadata": {},
   "source": [
    "5.  Explain why with statement is used with open(). What is the advantage of using with statement and \n",
    "open() together?"
   ]
  },
  {
   "cell_type": "code",
   "execution_count": null,
   "metadata": {},
   "outputs": [],
   "source": [
    "''' The with statement is used with open() to ensure that the file is properly closed after it has been used.\n",
    "     This is important because if a file is not closed properly, it can lead to data corruption or loss.\n",
    "\n",
    "    The advantage of using the with statement and open() together is that it automatically handles the closing of the file,\n",
    "    even if an error occurs while reading or writing to the file. This helps to ensure that the file is always closed properly,\n",
    "    regardless of any errors that may occur during the execution of the program. Additionally, it simplifies the code by\n",
    "    eliminating the need for explicit calls to close() method.\n",
    "'''"
   ]
  },
  {
   "attachments": {},
   "cell_type": "markdown",
   "metadata": {},
   "source": [
    "6.  Explain the write() and writelines() functions. Give a suitable example."
   ]
  },
  {
   "cell_type": "code",
   "execution_count": 12,
   "metadata": {},
   "outputs": [],
   "source": [
    "# The write() function is used to write a single string to a file\n",
    "\n",
    "with open('example.txt', 'w') as f:\n",
    "    f.write('This is an example of using the write() function.\\n')\n",
    "    f.write('It writes a single string to a file.\\n')\n"
   ]
  },
  {
   "cell_type": "code",
   "execution_count": 13,
   "metadata": {},
   "outputs": [],
   "source": [
    "# the writelines() function is used to write a list of strings to a file. \n",
    "\n",
    "lines = ['This is an example of using the writelines() function.\\n', 'It writes a list of strings to a file.\\n']\n",
    "\n",
    "with open('example.txt', 'w') as f:\n",
    "    f.writelines(lines)\n"
   ]
  },
  {
   "cell_type": "code",
   "execution_count": null,
   "metadata": {},
   "outputs": [],
   "source": []
  }
 ],
 "metadata": {
  "kernelspec": {
   "display_name": "Python 3",
   "language": "python",
   "name": "python3"
  },
  "language_info": {
   "codemirror_mode": {
    "name": "ipython",
    "version": 3
   },
   "file_extension": ".py",
   "mimetype": "text/x-python",
   "name": "python",
   "nbconvert_exporter": "python",
   "pygments_lexer": "ipython3",
   "version": "3.11.4"
  },
  "orig_nbformat": 4
 },
 "nbformat": 4,
 "nbformat_minor": 2
}
